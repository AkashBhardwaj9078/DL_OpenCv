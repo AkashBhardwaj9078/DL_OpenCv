{
  "nbformat": 4,
  "nbformat_minor": 0,
  "metadata": {
    "colab": {
      "provenance": []
    },
    "kernelspec": {
      "name": "python3",
      "display_name": "Python 3"
    },
    "language_info": {
      "name": "python"
    }
  },
  "cells": [
    {
      "cell_type": "code",
      "execution_count": 2,
      "metadata": {
        "id": "omzbbRR_bcDl"
      },
      "outputs": [],
      "source": [
        "import torch\n",
        "from transformers import PegasusForConditionalGeneration, PegasusTokenizer"
      ]
    },
    {
      "cell_type": "code",
      "source": [
        "model=PegasusForConditionalGeneration.from_pretrained(\"tuner007/pegasus_paraphrase\")\n",
        "tokenizer=PegasusTokenizer.from_pretrained(\"tuner007/pegasus_paraphrase\")\n",
        "text = \"A delta is an area near a river’s mouth where the water deposits fine soil called silt. In the delta, the Nile divides into many streams\"\n",
        "token=tokenizer(\n",
        "    text,\n",
        "    padding=True,\n",
        "    Truncation=True,\n",
        "    max_length=60,\n",
        "    return_tensors=\"pt\"\n",
        ")\n",
        "token"
      ],
      "metadata": {
        "colab": {
          "base_uri": "https://localhost:8080/"
        },
        "id": "4goH5NPGbfBH",
        "outputId": "6ad5302a-ad72-4868-faf5-826796fd8414"
      },
      "execution_count": 12,
      "outputs": [
        {
          "output_type": "stream",
          "name": "stderr",
          "text": [
            "Some weights of PegasusForConditionalGeneration were not initialized from the model checkpoint at tuner007/pegasus_paraphrase and are newly initialized: ['model.decoder.embed_positions.weight', 'model.encoder.embed_positions.weight']\n",
            "You should probably TRAIN this model on a down-stream task to be able to use it for predictions and inference.\n",
            "Keyword arguments {'Truncation': True} not recognized.\n"
          ]
        },
        {
          "output_type": "execute_result",
          "data": {
            "text/plain": [
              "{'input_ids': tensor([[  202, 19822,   117,   142,   345,   828,   114,  2984,   123,   116,\n",
              "          3097,   241,   109,   336,  8545,  1226,  3081,   568, 49016,   107,\n",
              "           222,   109, 19822,   108,   109, 19642, 29473,   190,   223,  8502,\n",
              "             1]]), 'attention_mask': tensor([[1, 1, 1, 1, 1, 1, 1, 1, 1, 1, 1, 1, 1, 1, 1, 1, 1, 1, 1, 1, 1, 1, 1, 1,\n",
              "         1, 1, 1, 1, 1, 1, 1]])}"
            ]
          },
          "metadata": {},
          "execution_count": 12
        }
      ]
    },
    {
      "cell_type": "markdown",
      "source": [],
      "metadata": {
        "id": "YLqsD5nihffu"
      }
    },
    {
      "cell_type": "code",
      "source": [
        "mod=model.generate(**token, max_length=60, num_beams=5, num_return_sequences=5, temperature=1.5)\n",
        "mod"
      ],
      "metadata": {
        "colab": {
          "base_uri": "https://localhost:8080/"
        },
        "id": "nMY3OkkjcY0V",
        "outputId": "b302e977-9ea0-4bcf-8059-879bf5a333d4"
      },
      "execution_count": 13,
      "outputs": [
        {
          "output_type": "execute_result",
          "data": {
            "text/plain": [
              "tensor([[    0,   139, 19642, 29473,   190,   223,  8502,   115,   109, 19822,\n",
              "           107,     1],\n",
              "        [    0,   139, 19642, 29473,   190,   223,  8502,   115,   109,  8081,\n",
              "           107,     1],\n",
              "        [    0,   139, 19642, 29473,   190,  8502,   115,   109, 19822,   107,\n",
              "             1,     0],\n",
              "        [    0,   139, 19642, 26685,   190,   223,  8502,   115,   109, 19822,\n",
              "           107,     1],\n",
              "        [    0,   139, 19642, 29473,   190,   223,  8502,   115,   114, 19822,\n",
              "           107,     1]])"
            ]
          },
          "metadata": {},
          "execution_count": 13
        }
      ]
    },
    {
      "cell_type": "code",
      "source": [
        "tokenizer.batch_decode(mod,\n",
        "                       skip_special_tokens=True\n",
        "                       )"
      ],
      "metadata": {
        "colab": {
          "base_uri": "https://localhost:8080/"
        },
        "id": "t_1bktSxef28",
        "outputId": "1c434c60-99cc-4db8-8517-835a333104f1"
      },
      "execution_count": 14,
      "outputs": [
        {
          "output_type": "execute_result",
          "data": {
            "text/plain": [
              "['The Nile divides into many streams in the delta.',\n",
              " 'The Nile divides into many streams in the Delta.',\n",
              " 'The Nile divides into streams in the delta.',\n",
              " 'The Nile splits into many streams in the delta.',\n",
              " 'The Nile divides into many streams in a delta.']"
            ]
          },
          "metadata": {},
          "execution_count": 14
        }
      ]
    },
    {
      "cell_type": "code",
      "source": [
        "def get_response(input_text,num_return_sequences,num_beams):\n",
        "  batch = tokenizer([input_text],truncation=True,padding='longest',max_length=60, return_tensors=\"pt\")\n",
        "  translated = model.generate(**batch,max_length=60,num_beams=num_beams, num_return_sequences=num_return_sequences, temperature=1.5)\n",
        "  tgt_text = tokenizer.batch_decode(translated, skip_special_tokens=True)\n",
        "  return tgt_text\n",
        ""
      ],
      "metadata": {
        "id": "pCWYQutilquL"
      },
      "execution_count": null,
      "outputs": []
    },
    {
      "cell_type": "code",
      "source": [
        "\n",
        "num_beams = 10\n",
        "num_return_sequences = 10\n",
        "get_response(text,num_return_sequences,num_beams)"
      ],
      "metadata": {
        "id": "Sv80LHMqm1ZD",
        "outputId": "89749fe6-f69c-48ea-e9e7-73518ad1e80f",
        "colab": {
          "base_uri": "https://localhost:8080/"
        }
      },
      "execution_count": 15,
      "outputs": [
        {
          "output_type": "execute_result",
          "data": {
            "text/plain": [
              "['The Nile divides into many streams in the delta.',\n",
              " 'The Nile divides into many streams in the Delta.',\n",
              " 'The Nile divides into streams in the delta.',\n",
              " 'The Nile divides into several streams in the delta.',\n",
              " 'The Nile divides into streams in the Delta.',\n",
              " \"The Nile divides into many streams in a delta near a river's mouth.\",\n",
              " \"The Nile divides into many streams in a delta near the river's mouth.\",\n",
              " 'The Nile splits into many streams in the delta.',\n",
              " 'The Nile divides into many streams in a delta.',\n",
              " 'The Nile divides into many streams in the delta, where the water deposits silt.']"
            ]
          },
          "metadata": {},
          "execution_count": 15
        }
      ]
    }
  ]
}