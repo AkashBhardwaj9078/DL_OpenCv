{
  "nbformat": 4,
  "nbformat_minor": 0,
  "metadata": {
    "colab": {
      "provenance": [],
      "authorship_tag": "ABX9TyPbKiH2bdWGCupQUgcjDRAp",
      "include_colab_link": true
    },
    "kernelspec": {
      "name": "python3",
      "display_name": "Python 3"
    },
    "language_info": {
      "name": "python"
    }
  },
  "cells": [
    {
      "cell_type": "markdown",
      "metadata": {
        "id": "view-in-github",
        "colab_type": "text"
      },
      "source": [
        "<a href=\"https://colab.research.google.com/github/AkashBhardwaj9078/Demo_git_work/blob/main/pose_detection.ipynb\" target=\"_parent\"><img src=\"https://colab.research.google.com/assets/colab-badge.svg\" alt=\"Open In Colab\"/></a>"
      ]
    },
    {
      "cell_type": "code",
      "execution_count": null,
      "metadata": {
        "id": "K3Mk4uuYCDAO"
      },
      "outputs": [],
      "source": [
        "import cv2\n",
        "import mediapipe as mp\n",
        "import time\n",
        "\n",
        "pose=mp.solutions.pose\n",
        "pose_mod=pose.Pose()\n",
        "draw=mp.solutions.drawing_utils\n",
        "cap=cv2.VideoCapture(0)\n",
        "ptime=0\n",
        "while True:\n",
        "  ret,frame=cap.read()\n",
        "  frame=cv2.cvtColor(frame,cv2.COLOR_BGR2RGB)\n",
        "  poses=pose_mod.process(frame)\n",
        "\n",
        "  if poses.pose_landmarks:\n",
        "    for im,lm in enumerate(poses.pose_landmarks.landmark):\n",
        "        h,w,c=frame.shape\n",
        "        cx,cy=int(lm.x*w),int(lm.y*h)\n",
        "        if im%4==0:\n",
        "            cv2.circle(frame,(cx,cy),25,(0,255,0),-1)\n",
        "\n",
        "\n",
        "    draw.draw_landmarks(frame,poses.pose_landmarks,pose.POSE_CONNECTIONS)\n",
        "\n",
        "\n",
        "\n",
        "\n",
        "\n",
        "\n",
        "\n",
        "\n",
        "\n",
        "\n",
        "\n",
        "\n",
        "\n",
        "\n",
        "    # for id,lm in enumerate(poses.pose_landmarks):\n",
        "    #   h,w,c=frame.shape\n",
        "    #   cx=int(lm.x*w)\n",
        "    #   cy=int(lm.y*h)\n",
        "    #   if id%4==0:\n",
        "    #     cv2.circle(frame,(cx,cy),25,(0,255,0),-1)\n",
        "  ctime=time.time()\n",
        "  fps=1/(ctime-ptime)\n",
        "  ptime=ctime\n",
        "  cv2.putText(frame,str(int(fps)),(10,70),cv2.FONT_HERSHEY_COMPLEX,1,(0,255,0),3)\n",
        "\n",
        "\n",
        "  cv2.imshow(\"frame\",frame)\n",
        "  if cv2.waitKey(1) and 0xFF==ord('q'):\n",
        "    break\n",
        "\n",
        "\n",
        "cap.release()\n",
        "cv2.destroyAllWindows()"
      ]
    }
  ]
}