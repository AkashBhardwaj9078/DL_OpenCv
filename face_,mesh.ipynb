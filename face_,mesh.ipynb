{
  "nbformat": 4,
  "nbformat_minor": 0,
  "metadata": {
    "colab": {
      "provenance": [],
      "authorship_tag": "ABX9TyPdCJt1MHgOIOX1d4dGmklF",
      "include_colab_link": true
    },
    "kernelspec": {
      "name": "python3",
      "display_name": "Python 3"
    },
    "language_info": {
      "name": "python"
    }
  },
  "cells": [
    {
      "cell_type": "markdown",
      "metadata": {
        "id": "view-in-github",
        "colab_type": "text"
      },
      "source": [
        "<a href=\"https://colab.research.google.com/github/AkashBhardwaj9078/Demo_git_work/blob/main/face_%2Cmesh.ipynb\" target=\"_parent\"><img src=\"https://colab.research.google.com/assets/colab-badge.svg\" alt=\"Open In Colab\"/></a>"
      ]
    },
    {
      "cell_type": "code",
      "execution_count": null,
      "metadata": {
        "id": "S1YrKYNbByyk"
      },
      "outputs": [],
      "source": [
        "# import cv2\n",
        "# import mediapipe as mp\n",
        "# import time\n",
        "\n",
        "# detect_facemesh=mp.solutions.face_mesh\n",
        "# detect_facemesh_mod=detect_facemesh.FaceMesh(max_num_faces=1)\n",
        "# face_draw=mp.solutions.drawing_utils\n",
        "# draw_style=mp.solutions.drawing_styles\n",
        "\n",
        "# cap=cv2.VideoCapture(0)\n",
        "# cap.set(3,640)\n",
        "# cap.set(4,640)\n",
        "\n",
        "# while True:\n",
        "#   ret,frame=cap.read()\n",
        "#   frame=cv2.cvtColor(frame,cv2.COLOR_BGR2RGB)\n",
        "#   faces=detect_facemesh_mod.process(frame)\n",
        "#   if faces.multi_face_landmarks:\n",
        "#     for id,lm in enumerate(faces.multi_face_landmarks.landmark):\n",
        "#       face_draw.draw_landmarks(frame,lm,detect_facewash.FACEWASH_CONNECTIONS)\n",
        "\n",
        "\n",
        "#   cv2.imshow(\"frame\",frame)\n",
        "#   if cv2.waiKey(1) and 0xFF==ord('q'):\n",
        "#     break\n",
        "\n",
        "\n",
        "# cap.release()\n",
        "# cv2.destroyAllWindows()\n",
        "\n",
        "import cv2\n",
        "import mediapipe as mp\n",
        "import time\n",
        "\n",
        "detect_facemesh=mp.solutions.face_mesh\n",
        "detect_facemesh_mod=detect_facemesh.FaceMesh(max_num_faces=1)\n",
        "face_draw=mp.solutions.drawing_utils\n",
        "draw_style=mp.solutions.drawing_styles\n",
        "\n",
        "cap=cv2.VideoCapture(0)\n",
        "cap.set(3,640)\n",
        "cap.set(4,640)\n",
        "\n",
        "while True:\n",
        "  ret,frame=cap.read()\n",
        "  frame=cv2.cvtColor(frame,cv2.COLOR_BGR2RGB)\n",
        "  faces=detect_facemesh_mod.process(frame)\n",
        "  if faces.multi_face_landmarks:\n",
        "    face_draw.draw_landmarks(frame,detect_facemesh.FACEWASH,detect_facemesh.FACEWASH_CONNECTIONS)\n",
        "\n",
        "    # for id,lm in enumerate(faces.multi_face_landmarks.landmark):\n",
        "    #   face_draw.draw_landmarks(frame,lm,detect_facewash.FACEWASH_CONNECTIONS)\n",
        "\n",
        "\n",
        "  cv2.imshow(\"frame\",frame)\n",
        "  if cv2.waiKey(1) and 0xFF==ord('q'):\n",
        "    break\n",
        "\n",
        "\n",
        "cap.release()\n",
        "cv2.destroyAllWindows()\n",
        "\n"
      ]
    }
  ]
}