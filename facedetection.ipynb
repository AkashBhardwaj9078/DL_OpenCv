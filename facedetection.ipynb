{
  "nbformat": 4,
  "nbformat_minor": 0,
  "metadata": {
    "colab": {
      "provenance": [],
      "authorship_tag": "ABX9TyOPMCpbdGKz3A+0WxXjADbK",
      "include_colab_link": true
    },
    "kernelspec": {
      "name": "python3",
      "display_name": "Python 3"
    },
    "language_info": {
      "name": "python"
    }
  },
  "cells": [
    {
      "cell_type": "markdown",
      "metadata": {
        "id": "view-in-github",
        "colab_type": "text"
      },
      "source": [
        "<a href=\"https://colab.research.google.com/github/AkashBhardwaj9078/Demo_git_work/blob/main/facedetection.ipynb\" target=\"_parent\"><img src=\"https://colab.research.google.com/assets/colab-badge.svg\" alt=\"Open In Colab\"/></a>"
      ]
    },
    {
      "cell_type": "code",
      "execution_count": null,
      "metadata": {
        "id": "Zk4iOX3xBdkg"
      },
      "outputs": [],
      "source": [
        "import cv2\n",
        "import mediapipe as mp\n",
        "import time\n",
        "\n",
        "detect_face=mp.solutions.face_detection\n",
        "detect_face_mod=detect_face.FaceDetection()\n",
        "face_draw=mp.solutions.drawing_utils\n",
        "cap=cv2.VideoCapture(0)\n",
        "cap.set(3,1200)\n",
        "cap.set(4,1200)\n",
        "while True:\n",
        "  ret,frame=cap.read()\n",
        "  frame=cv2.cvtColor(frame,cv2.COLOR_BGR2RGB)\n",
        "  faces=detect_face_mod.process(frame)\n",
        "  if faces.detections:\n",
        "    for id,detection in enumerate(faces.detections):\n",
        "      face_draw.draw_detection(frame,detection)\n",
        "      print(detection.score)\n",
        "\n",
        "      print(detection.location_data.relative_bounding_box)\n",
        "      print(detection.location_data.relative_keypoints)\n",
        "      bbox=detection.location_data.relative_bounding_box\n",
        "      fh,fw,fc=frame.shape\n",
        "      x,y,w,h=int(bbox.xmin*fw),int(bbox.ymin*fh),int(bbox.width*fw),int(bbox.height*fh)\n",
        "      cv2.putText(frame,str(int(detection.score[0]*100))+\"%\",(x,y-20),cv2.FONT_HERSHEY_COMPLEX,1,(0,255,0),3)\n",
        "      cv2.line(frame,(x,y),(x+20,y),(255,255,0),20)\n",
        "      cv2.line(frame,(x,y),(x,y+20),(255,255,0),20)\n",
        "      cv2.line(frame,(x+w-20,y+h),(x+w,y+h),(255,255,0),20)\n",
        "      cv2.line(frame,(x+w,y+h-20),(x+w,y+h),(255,255,0),20)\n",
        "      cv2.rectangle(frame,(x,y),(x+w,y+h),(255,0,255),10)\n",
        "\n",
        "  cv2.imshow(\"frame\",frame)\n",
        "  if cv2.waitKey(1) and 0xFF==ord('q'):\n",
        "    break\n",
        "\n",
        "cap.release()\n",
        "cv2.destroyAllWindows()"
      ]
    }
  ]
}